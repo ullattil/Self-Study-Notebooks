{
  "nbformat": 4,
  "nbformat_minor": 0,
  "metadata": {
    "colab": {
      "provenance": [],
      "include_colab_link": true
    },
    "kernelspec": {
      "name": "python3",
      "display_name": "Python 3"
    },
    "language_info": {
      "name": "python"
    },
    "accelerator": "GPU"
  },
  "cells": [
    {
      "cell_type": "markdown",
      "metadata": {
        "id": "view-in-github",
        "colab_type": "text"
      },
      "source": [
        "<a href=\"https://colab.research.google.com/github/ullattil/Self-Study-Notebooks/blob/master/Intro-to-ML/iml_pytorch_tutorial3.ipynb\" target=\"_parent\"><img src=\"https://colab.research.google.com/assets/colab-badge.svg\" alt=\"Open In Colab\"/></a>"
      ]
    },
    {
      "cell_type": "markdown",
      "source": [
        "# IML PyTorch Tutorial - Part 3: Datasets and a Real Example"
      ],
      "metadata": {
        "id": "WH9EJos1W--v"
      }
    },
    {
      "cell_type": "code",
      "execution_count": null,
      "metadata": {
        "colab": {
          "base_uri": "https://localhost:8080/"
        },
        "id": "UwN0Wy5eTpp8",
        "outputId": "48a2fb92-1df9-482e-fde2-bdb638c8a691"
      },
      "outputs": [
        {
          "output_type": "stream",
          "name": "stdout",
          "text": [
            "Requirement already satisfied: mnist in /usr/local/lib/python3.7/dist-packages (0.2.2)\n",
            "Requirement already satisfied: numpy in /usr/local/lib/python3.7/dist-packages (from mnist) (1.21.6)\n"
          ]
        }
      ],
      "source": [
        "from matplotlib import pyplot as plt\n",
        "import numpy as np\n",
        "import torch\n",
        "import time\n",
        "\n",
        "!pip install mnist\n",
        "import mnist"
      ]
    },
    {
      "cell_type": "markdown",
      "source": [
        "## Data loading, exploration and preparation"
      ],
      "metadata": {
        "id": "yn3dJishU5ho"
      }
    },
    {
      "cell_type": "code",
      "source": [
        "# let's take fewer train points to make it harder\n",
        "x_train = mnist.train_images()[:2000]\n",
        "y_train = mnist.train_labels()[:2000]\n",
        "x_test = mnist.test_images()\n",
        "y_test = mnist.test_labels()\n",
        "\n",
        "print('Train data shapes', x_train.shape, y_train.shape)\n",
        "print('Test data shapes', x_test.shape, y_test.shape)\n",
        "\n",
        "# plot some random train images\n",
        "num_plots = 5\n",
        "fig, axes = plt.subplots(ncols=num_plots, figsize=(num_plots*3, 3))\n",
        "for i, rand_idx in enumerate(np.random.choice(x_train.shape[0], size=num_plots)):\n",
        "  axes[i].imshow(x_train[rand_idx])\n",
        "  axes[i].set_title(f'label={y_train[rand_idx]}')\n",
        "fig.show()"
      ],
      "metadata": {
        "colab": {
          "base_uri": "https://localhost:8080/",
          "height": 243
        },
        "id": "aEb8mBc2T86e",
        "outputId": "3f44b7ea-119d-457f-db4c-4e568640c733"
      },
      "execution_count": null,
      "outputs": [
        {
          "output_type": "stream",
          "name": "stdout",
          "text": [
            "Train data shapes (2000, 28, 28) (2000,)\n",
            "Test data shapes (10000, 28, 28) (10000,)\n"
          ]
        },
        {
          "output_type": "display_data",
          "data": {
            "text/plain": [
              "<Figure size 1080x216 with 5 Axes>"
            ],
            "image/png": "[encoded data removed]"
          },
          "metadata": {
            "needs_background": "light"
          }
        }
      ]
    },
    {
      "cell_type": "code",
      "source": [
        "# Compute some data stats to better understand the data\n",
        "print('X mean:', np.mean(x_train))\n",
        "print('X std:', np.std(x_train))\n",
        "print('X min:', np.min(x_train))\n",
        "print('X max:', np.max(x_train))\n",
        "print('X dtype', x_train.dtype, '\\n')\n",
        "\n",
        "print('Y labels', set(y_train))\n",
        "print('Y dtype', y_train.dtype)"
      ],
      "metadata": {
        "colab": {
          "base_uri": "https://localhost:8080/"
        },
        "id": "vi45dj_kYeiu",
        "outputId": "2aa6ca6f-f15e-4a37-f8a3-fda6e4eac725"
      },
      "execution_count": null,
      "outputs": [
        {
          "output_type": "stream",
          "name": "stdout",
          "text": [
            "X mean: 33.1954368622449\n",
            "X std: 78.4629182628044\n",
            "X min: 0\n",
            "X max: 255\n",
            "X dtype uint8 \n",
            "\n",
            "Y labels {0, 1, 2, 3, 4, 5, 6, 7, 8, 9}\n",
            "Y dtype uint8\n"
          ]
        }
      ]
    },
    {
      "cell_type": "code",
      "source": [
        "# check whether classes are balanced\n",
        "fig, axes = plt.subplots(ncols=2, figsize=(8, 4))\n",
        "axes[0].hist(y_train, bins=10)\n",
        "axes[0].set_title('Histogram train labels')\n",
        "axes[1].hist(y_test, bins=10)\n",
        "axes[1].set_title('Histogram test labels')\n",
        "plt.show()"
      ],
      "metadata": {
        "colab": {
          "base_uri": "https://localhost:8080/",
          "height": 281
        },
        "id": "2lGZ3spcfEBM",
        "outputId": "3a00cee0-b0b2-4653-a147-4926afe29a7b"
      },
      "execution_count": null,
      "outputs": [
        {
          "output_type": "display_data",
          "data": {
            "text/plain": [
              "<Figure size 576x288 with 2 Axes>"
            ],
            "image/png": "[encoded data removed]"
          },
          "metadata": {
            "needs_background": "light"
          }
        }
      ]
    },
    {
      "cell_type": "markdown",
      "source": [
        "* The image pixels are encoded as grayscale values between 0 and 255  -> we should convert them to float and standardize them.\n",
        "* The labels are integers from 0 to 9. We should convert them into one-hot encodings.\n",
        "* The class labels are roughly balanced. In this case, we do not not need to use special tools and metrics for imbalanced classes."
      ],
      "metadata": {
        "id": "1in8AdCBY18O"
      }
    },
    {
      "cell_type": "code",
      "source": [
        "# convert images and labels to tensors\n",
        "# since CNNs require 3d inputs, add channel dimension of size 1\n",
        "x_train_t = torch.from_numpy(x_train).float().reshape((-1, 1, 28, 28))\n",
        "x_test_t = torch.from_numpy(x_test).float().reshape((-1, 1, 28, 28))\n",
        "\n",
        "y_train_t = torch.from_numpy(y_train).long()\n",
        "y_test_t = torch.from_numpy(y_test).long()"
      ],
      "metadata": {
        "id": "XT28fywYXqne"
      },
      "execution_count": null,
      "outputs": []
    },
    {
      "cell_type": "code",
      "source": [
        "# compute mean and std of training images\n",
        "x_std, x_mean = torch.std_mean(x_train_t)\n",
        "\n",
        "# standardize images \n",
        "# (make sure to apply the same standardization to the train and test)\n",
        "x_train_t = (x_train_t - x_mean) / (x_std + 1e-6)\n",
        "x_test_t = (x_test_t - x_mean) / (x_std + 1e-6)\n",
        "\n",
        "print('X train mean:', torch.mean(x_train_t))\n",
        "print('X train std:', torch.std(x_train_t))\n",
        "\n",
        "print('X test mean:', torch.mean(x_test_t))\n",
        "print('X test std:', torch.std(x_test_t))"
      ],
      "metadata": {
        "colab": {
          "base_uri": "https://localhost:8080/"
        },
        "id": "P0836mhlcF_X",
        "outputId": "485d1166-3959-4956-b76d-071e8fdfbe88"
      },
      "execution_count": null,
      "outputs": [
        {
          "output_type": "stream",
          "name": "stdout",
          "text": [
            "X train mean: tensor(2.7306e-08)\n",
            "X train std: tensor(1.0000)\n",
            "X test mean: tensor(0.0076)\n",
            "X test std: tensor(1.0090)\n"
          ]
        }
      ]
    },
    {
      "cell_type": "code",
      "source": [
        "# convert labels to one-hot encoding\n",
        "print(y_train_t.shape, y_train_t.dtype)\n",
        "y_train_t = torch.nn.functional.one_hot(y_train_t, num_classes=10).float()\n",
        "y_test_t = torch.nn.functional.one_hot(y_test_t, num_classes=10).float()\n",
        "print(y_train_t.shape, y_train_t.dtype)"
      ],
      "metadata": {
        "colab": {
          "base_uri": "https://localhost:8080/"
        },
        "id": "okwt86JydCyw",
        "outputId": "b599aa49-4053-434a-9933-d9a7fef0c3dd"
      },
      "execution_count": null,
      "outputs": [
        {
          "output_type": "stream",
          "name": "stdout",
          "text": [
            "torch.Size([2000]) torch.int64\n",
            "torch.Size([2000, 10]) torch.float32\n"
          ]
        }
      ]
    },
    {
      "cell_type": "markdown",
      "source": [
        "We now use utility classes from PyTorch to load our dataset. These classes make working with batches and shuffling easier."
      ],
      "metadata": {
        "id": "bv1Nm6bRcdwK"
      }
    },
    {
      "cell_type": "code",
      "source": [
        "from torch.utils.data import TensorDataset, DataLoader\n",
        "# setup dataset\n",
        "train_ds = TensorDataset(x_train_t, y_train_t)\n",
        "test_ds = TensorDataset(x_test_t, y_test_t)\n",
        "print('Train dataset size:', len(train_ds))\n",
        "print('Test dataset size:', len(test_ds))\n",
        "\n",
        "# setup train and test loader\n",
        "train_loader = DataLoader(train_ds, batch_size=64, shuffle=True)\n",
        "test_loader = DataLoader(test_ds, batch_size=256, shuffle=True)"
      ],
      "metadata": {
        "colab": {
          "base_uri": "https://localhost:8080/"
        },
        "id": "MuHO6FiicK0O",
        "outputId": "ab13109f-407b-497a-854c-8c9fa2941f23"
      },
      "execution_count": null,
      "outputs": [
        {
          "output_type": "stream",
          "name": "stdout",
          "text": [
            "Train dataset size: 2000\n",
            "Test dataset size: 10000\n"
          ]
        }
      ]
    },
    {
      "cell_type": "markdown",
      "source": [
        "To obtain batches of data, it suffices to iterate over the loader. If we also need the index, we can use python's `enumerate()`. Each iteration over the loader gives a batch of data along with the labels. Notice that the first dimension of the batch tensor corresponds to the different data points in the batch. "
      ],
      "metadata": {
        "id": "deEU9GN2czfT"
      }
    },
    {
      "cell_type": "code",
      "source": [
        "# check that data loader is properly set up. We just check for the first batch\n",
        "with torch.no_grad():\n",
        "  for j, (x_batch, y_batch) in enumerate(train_loader):\n",
        "    if j == 0:\n",
        "      print('X batch shape', x_batch.shape)\n",
        "      print('Y batch shape', y_batch.shape)\n",
        "    num_plots = 5\n",
        "    fig, axes = plt.subplots(ncols=num_plots, figsize=(num_plots*4, 3))\n",
        "    for i in range(5):\n",
        "      axes[i].imshow(x_batch[i].numpy().squeeze())\n",
        "      axes[i].set_title(f'label={y_batch[i].numpy()}')\n",
        "    fig.show()\n",
        "    if j > 0:\n",
        "      break"
      ],
      "metadata": {
        "colab": {
          "base_uri": "https://localhost:8080/",
          "height": 472
        },
        "id": "AzvO8fcWg-bR",
        "outputId": "64eb89dc-ee1d-4e96-af3a-94186f929844"
      },
      "execution_count": null,
      "outputs": [
        {
          "output_type": "stream",
          "name": "stdout",
          "text": [
            "X batch shape torch.Size([64, 1, 28, 28])\n",
            "Y batch shape torch.Size([64, 10])\n"
          ]
        },
        {
          "output_type": "display_data",
          "data": {
            "text/plain": [
              "<Figure size 1440x216 with 5 Axes>"
            ],
            "image/png": "[encoded data removed]"
          },
          "metadata": {
            "needs_background": "light"
          }
        },
        {
          "output_type": "display_data",
          "data": {
            "text/plain": [
              "<Figure size 1440x216 with 5 Axes>"
            ],
            "image/png": "[encoded data removed]"
          },
          "metadata": {
            "needs_background": "light"
          }
        }
      ]
    },
    {
      "cell_type": "markdown",
      "source": [
        "We now setup a CNN model. Observe different layers of the NN along with different parameters we set for them."
      ],
      "metadata": {
        "id": "FReaNoC6iPE1"
      }
    },
    {
      "cell_type": "code",
      "source": [
        "class MNIST_CNN(torch.nn.Module):\n",
        "\n",
        "    def __init__(self):\n",
        "        super().__init__()\n",
        "\n",
        "        self.conv1 = torch.nn.Conv2d(in_channels=1, out_channels=16, \n",
        "                                     kernel_size=5, stride=1)\n",
        "        self.conv2 = torch.nn.Conv2d(in_channels=16, out_channels=32, \n",
        "                                     kernel_size=3, stride=1)\n",
        "        self.pool = torch.nn.MaxPool2d(2, 2)\n",
        "        self.leaky_relu = torch.nn.LeakyReLU()\n",
        "        self.dropout = torch.nn.Dropout(p=0.5)\n",
        "        self.fc1 = torch.nn.Linear(32 * 5 * 5, 120)\n",
        "        self.fc2 = torch.nn.Linear(120, 84)\n",
        "        self.fc3 = torch.nn.Linear(84, 10)\n",
        "\n",
        "    def forward(self, x):\n",
        "        # convolutional + pooling layers\n",
        "        x = self.pool(self.leaky_relu(self.conv1(x)))\n",
        "        x = self.pool(self.leaky_relu(self.conv2(x)))\n",
        "\n",
        "        # flatten all dimensions except batch\n",
        "        x = self.dropout(torch.flatten(x, start_dim=1))\n",
        "\n",
        "        # fc layers\n",
        "        x = self.leaky_relu(self.dropout(self.fc1(x)))\n",
        "        x = self.leaky_relu(self.dropout(self.fc2(x)))\n",
        "        logits = self.fc3(x)\n",
        "        return logits\n",
        "\n",
        "# move the model to the GPU\n",
        "model = MNIST_CNN().cuda()"
      ],
      "metadata": {
        "id": "SNMXzLzGiJ8z"
      },
      "execution_count": null,
      "outputs": []
    },
    {
      "cell_type": "markdown",
      "source": [
        "### Define the loss funtion"
      ],
      "metadata": {
        "id": "zA0a_GCerysq"
      }
    },
    {
      "cell_type": "markdown",
      "source": [
        "The neural network outputs real-valued logits:\n",
        "$$\\mathrm{logit}(\\mathbf{x}) = l(\\mathbf{x}) = \\text{NN}(\\mathbf{x}) \\in \\mathbb{R}^{10}$$\n",
        "\n",
        "We use the *softmax* function to turn the logits into the neural networks predicted class probabilies.\n",
        "$$\\hat{p}(y_c=1|\\mathbf{x}) = \\text{softmax}(l(\\mathbf{x}))_c = \\frac{\\exp{ l_c(\\mathbf{x})}}{\\sum_{i=1}^{10} \\exp{ l_i(\\mathbf{x})}} ~, ~c=1, ..., 10$$\n",
        "\n",
        "If the stack this up for all the 10 classes, we obtain\n",
        "$\n",
        "\\hat{p}(\\mathbf{y}|\\mathbf{x}) = \\text{softmax}(l(\\mathbf{x})) \\in [0,1]^{10}\n",
        "$.\n",
        "\n",
        "Since we have encoded our labels $\\mathbf{y} \\in \\{0,1\\}^{10}$ as one-hot encoding, we can write the likelihood of a data point $(\\mathbf{x}_j, \\mathbf{y}_j)$ under our predictive class distribution as:\n",
        "$$\\hat{p}(\\mathbf{y}_j|\\mathbf{x}_j) = \\mathbf{y}_j^\\top \\text{softmax}(l(\\mathbf{x}_j))$$\n",
        "Since $\\mathbf{y}_j$ has only one non-zero entry, this effectively selects the predictied probability for the class to the label corresponds to.\n",
        "\n",
        "We use the negative log-likelihood of the data as the loss function:\n",
        "$$\n",
        "\\mathcal{L} := - \\sum_{j=1}^n \\log \\hat{p}(\\mathbf{y}_j|\\mathbf{x}_j) = - \\sum_{j=1}^n\\log(\\mathbf{y}_j^\\top \\text{softmax}(l(\\mathbf{x}_j))) = - \\sum_{j=1}^n\\log \\left( \\mathbf{y}_j^\\top \\text{softmax}(l(\\mathbf{x}_j)) \\right) = - \\sum_{j=1}^n \\mathbf{y}_j^\\top  l(\\mathbf{x}_j)  + \\mathrm{const}.\n",
        "$$"
      ],
      "metadata": {
        "id": "XOlnoK_tARvD"
      }
    },
    {
      "cell_type": "code",
      "source": [
        "# loss function that takes in logits and true labels and \n",
        "# outputs neg. log-likelihood (aka. cross-entrpy loss)\n",
        "loss_fn = torch.nn.CrossEntropyLoss()"
      ],
      "metadata": {
        "id": "7R_aBgCtI0ca"
      },
      "execution_count": null,
      "outputs": []
    },
    {
      "cell_type": "code",
      "source": [
        "# define utility functions to compute classification accuracy and\n",
        "# perform evaluation / testing\n",
        "\n",
        "def accuracy(logits: torch.Tensor, label: torch.Tensor) -> torch.Tensor:\n",
        "  # computes the classification accuracy\n",
        "  correct_label = torch.argmax(logits, axis=-1) == torch.argmax(label, axis=-1)\n",
        "  assert correct_label.shape == (logits.shape[0],)\n",
        "  acc = torch.mean(correct_label.float())\n",
        "  assert 0. <= acc <= 1.\n",
        "  return acc\n",
        "\n",
        "def evaluate(model: torch.nn.Module) -> torch.Tensor:\n",
        "  # goes through the test dataset and computes the test accuracy\n",
        "  model.eval()  # bring the model into eval mode\n",
        "  with torch.no_grad():\n",
        "    acc_cum = 0.0\n",
        "    num_eval_samples = 0\n",
        "    for x_batch_test, y_label_test in test_loader:\n",
        "      x_batch_test, y_label_test = x_batch_test.cuda(), y_label_test.cuda()\n",
        "      batch_size = x_batch_test.shape[0]\n",
        "      num_eval_samples += batch_size\n",
        "      acc_cum += accuracy(model(x_batch_test), y_label_test) * batch_size\n",
        "    avg_acc = acc_cum / num_eval_samples\n",
        "    assert 0 <= avg_acc <= 1\n",
        "    return avg_acc"
      ],
      "metadata": {
        "id": "8jEcO3OFra-X"
      },
      "execution_count": null,
      "outputs": []
    },
    {
      "cell_type": "markdown",
      "source": [
        "## Perform training and testing"
      ],
      "metadata": {
        "id": "q5-6-YbLK3WZ"
      }
    },
    {
      "cell_type": "code",
      "source": [
        "# Setup the optimizer (adaptive learning rate method)\n",
        "optim = torch.optim.Adam(model.parameters(), lr=1e-3)\n",
        "\n",
        "for epoch in range(50):\n",
        "  # reset statistics trackers\n",
        "  train_loss_cum = 0.0\n",
        "  acc_cum = 0.0\n",
        "  num_samples_epoch = 0\n",
        "  t = time.time()\n",
        "\n",
        "  # Go once through the training dataset (-> epoch)\n",
        "  for x_batch, y_batch in train_loader:\n",
        "      # zero grads and put model into train mode\n",
        "      optim.zero_grad()\n",
        "      model.train()\n",
        "      \n",
        "      # move data to GPU\n",
        "      x_batch, y_batch = x_batch.cuda(), y_batch.cuda()\n",
        "\n",
        "      # forward pass\n",
        "      logits = model(x_batch)\n",
        "      loss = loss_fn(logits, y_batch)\n",
        "\n",
        "      # backward pass and gradient step\n",
        "      loss.backward()\n",
        "      optim.step()\n",
        "\n",
        "      # keep track of train stats\n",
        "      num_samples_batch = x_batch.shape[0]\n",
        "      num_samples_epoch += num_samples_batch\n",
        "      train_loss_cum += loss * num_samples_batch\n",
        "      acc_cum += accuracy(logits, y_batch) * num_samples_batch\n",
        "  \n",
        "  # average the accumulated statistics\n",
        "  avg_train_loss = train_loss_cum / num_samples_epoch\n",
        "  avg_acc = acc_cum / num_samples_epoch\n",
        "  test_acc = evaluate(model)\n",
        "  epoch_duration = time.time() - t\n",
        "  \n",
        "  # print some infos\n",
        "  print(f'Epoch {epoch} | Train loss: {train_loss_cum.item():.4f} | '\n",
        "  f' Train accuracy: {avg_acc.item():.4f} | Test accuracy: {test_acc.item():.4f} |'\n",
        "  f' Duration {epoch_duration:.2f} sec')\n",
        "\n",
        "  # save checkpoint of model\n",
        "  if epoch % 5 == 0 and epoch > 0:\n",
        "      save_path = f'model_epoch_{epoch}.pt'\n",
        "      torch.save({'epoch': epoch,\n",
        "                  'model_state_dict': model.state_dict(),\n",
        "                  'optimizer_state_dict': optim.state_dict()},\n",
        "                 save_path)\n",
        "      print(f'Saved model checkpoint to {save_path}')"
      ],
      "metadata": {
        "colab": {
          "base_uri": "https://localhost:8080/"
        },
        "id": "SywC6ILPJ8i8",
        "outputId": "666ce492-6f24-4343-86ef-21fd8bc24bcc"
      },
      "execution_count": null,
      "outputs": [
        {
          "output_type": "stream",
          "name": "stdout",
          "text": [
            "Epoch 0 | Train loss: 4343.3931 |  Train accuracy: 0.2090 | Test accuracy: 0.6057 | Duration 0.67 sec\n",
            "Epoch 1 | Train loss: 2828.0569 |  Train accuracy: 0.5055 | Test accuracy: 0.8122 | Duration 0.37 sec\n",
            "Epoch 2 | Train loss: 1925.5835 |  Train accuracy: 0.6705 | Test accuracy: 0.8774 | Duration 0.37 sec\n",
            "Epoch 3 | Train loss: 1371.9868 |  Train accuracy: 0.7730 | Test accuracy: 0.9125 | Duration 0.36 sec\n",
            "Epoch 4 | Train loss: 1098.1367 |  Train accuracy: 0.8205 | Test accuracy: 0.9331 | Duration 0.37 sec\n",
            "Epoch 5 | Train loss: 929.4026 |  Train accuracy: 0.8530 | Test accuracy: 0.9447 | Duration 0.37 sec\n",
            "Saved model checkpoint to model_epoch_5.pt\n",
            "Epoch 6 | Train loss: 744.4652 |  Train accuracy: 0.8870 | Test accuracy: 0.9459 | Duration 0.37 sec\n",
            "Epoch 7 | Train loss: 716.7729 |  Train accuracy: 0.8975 | Test accuracy: 0.9520 | Duration 0.40 sec\n",
            "Epoch 8 | Train loss: 632.3963 |  Train accuracy: 0.9030 | Test accuracy: 0.9514 | Duration 0.37 sec\n",
            "Epoch 9 | Train loss: 585.8896 |  Train accuracy: 0.9070 | Test accuracy: 0.9576 | Duration 0.36 sec\n",
            "Epoch 10 | Train loss: 553.0989 |  Train accuracy: 0.9190 | Test accuracy: 0.9581 | Duration 0.37 sec\n",
            "Saved model checkpoint to model_epoch_10.pt\n",
            "Epoch 11 | Train loss: 525.3942 |  Train accuracy: 0.9230 | Test accuracy: 0.9610 | Duration 0.35 sec\n",
            "Epoch 12 | Train loss: 461.2853 |  Train accuracy: 0.9235 | Test accuracy: 0.9578 | Duration 0.36 sec\n",
            "Epoch 13 | Train loss: 417.5394 |  Train accuracy: 0.9385 | Test accuracy: 0.9602 | Duration 0.42 sec\n",
            "Epoch 14 | Train loss: 404.4961 |  Train accuracy: 0.9380 | Test accuracy: 0.9639 | Duration 0.36 sec\n",
            "Epoch 15 | Train loss: 431.3109 |  Train accuracy: 0.9345 | Test accuracy: 0.9625 | Duration 0.36 sec\n",
            "Saved model checkpoint to model_epoch_15.pt\n",
            "Epoch 16 | Train loss: 390.4951 |  Train accuracy: 0.9500 | Test accuracy: 0.9626 | Duration 0.37 sec\n",
            "Epoch 17 | Train loss: 370.2297 |  Train accuracy: 0.9440 | Test accuracy: 0.9629 | Duration 0.35 sec\n",
            "Epoch 18 | Train loss: 344.7563 |  Train accuracy: 0.9480 | Test accuracy: 0.9651 | Duration 0.37 sec\n",
            "Epoch 19 | Train loss: 317.5141 |  Train accuracy: 0.9480 | Test accuracy: 0.9642 | Duration 0.36 sec\n",
            "Epoch 20 | Train loss: 332.2712 |  Train accuracy: 0.9535 | Test accuracy: 0.9684 | Duration 0.35 sec\n",
            "Saved model checkpoint to model_epoch_20.pt\n",
            "Epoch 21 | Train loss: 279.8606 |  Train accuracy: 0.9555 | Test accuracy: 0.9674 | Duration 0.37 sec\n",
            "Epoch 22 | Train loss: 296.7672 |  Train accuracy: 0.9570 | Test accuracy: 0.9646 | Duration 0.36 sec\n",
            "Epoch 23 | Train loss: 332.9164 |  Train accuracy: 0.9555 | Test accuracy: 0.9677 | Duration 0.35 sec\n",
            "Epoch 24 | Train loss: 257.7035 |  Train accuracy: 0.9625 | Test accuracy: 0.9687 | Duration 0.37 sec\n",
            "Epoch 25 | Train loss: 268.1161 |  Train accuracy: 0.9590 | Test accuracy: 0.9676 | Duration 0.37 sec\n",
            "Saved model checkpoint to model_epoch_25.pt\n",
            "Epoch 26 | Train loss: 297.1228 |  Train accuracy: 0.9565 | Test accuracy: 0.9663 | Duration 0.36 sec\n",
            "Epoch 27 | Train loss: 243.6115 |  Train accuracy: 0.9695 | Test accuracy: 0.9704 | Duration 0.38 sec\n",
            "Epoch 28 | Train loss: 244.3011 |  Train accuracy: 0.9600 | Test accuracy: 0.9703 | Duration 0.41 sec\n",
            "Epoch 29 | Train loss: 222.1524 |  Train accuracy: 0.9660 | Test accuracy: 0.9702 | Duration 0.38 sec\n",
            "Epoch 30 | Train loss: 224.4774 |  Train accuracy: 0.9620 | Test accuracy: 0.9698 | Duration 0.35 sec\n",
            "Saved model checkpoint to model_epoch_30.pt\n",
            "Epoch 31 | Train loss: 233.6135 |  Train accuracy: 0.9615 | Test accuracy: 0.9687 | Duration 0.34 sec\n",
            "Epoch 32 | Train loss: 200.9075 |  Train accuracy: 0.9690 | Test accuracy: 0.9671 | Duration 0.37 sec\n",
            "Epoch 33 | Train loss: 229.9217 |  Train accuracy: 0.9655 | Test accuracy: 0.9710 | Duration 0.34 sec\n",
            "Epoch 34 | Train loss: 203.1969 |  Train accuracy: 0.9720 | Test accuracy: 0.9691 | Duration 0.34 sec\n",
            "Epoch 35 | Train loss: 233.1118 |  Train accuracy: 0.9650 | Test accuracy: 0.9693 | Duration 0.36 sec\n",
            "Saved model checkpoint to model_epoch_35.pt\n",
            "Epoch 36 | Train loss: 164.1904 |  Train accuracy: 0.9725 | Test accuracy: 0.9710 | Duration 0.35 sec\n",
            "Epoch 37 | Train loss: 235.9298 |  Train accuracy: 0.9650 | Test accuracy: 0.9689 | Duration 0.35 sec\n",
            "Epoch 38 | Train loss: 227.8883 |  Train accuracy: 0.9625 | Test accuracy: 0.9711 | Duration 0.36 sec\n",
            "Epoch 39 | Train loss: 150.2594 |  Train accuracy: 0.9805 | Test accuracy: 0.9710 | Duration 0.34 sec\n",
            "Epoch 40 | Train loss: 148.6521 |  Train accuracy: 0.9800 | Test accuracy: 0.9711 | Duration 0.35 sec\n",
            "Saved model checkpoint to model_epoch_40.pt\n",
            "Epoch 41 | Train loss: 164.5437 |  Train accuracy: 0.9725 | Test accuracy: 0.9693 | Duration 0.35 sec\n",
            "Epoch 42 | Train loss: 121.2459 |  Train accuracy: 0.9800 | Test accuracy: 0.9705 | Duration 0.35 sec\n",
            "Epoch 43 | Train loss: 157.2769 |  Train accuracy: 0.9780 | Test accuracy: 0.9700 | Duration 0.40 sec\n",
            "Epoch 44 | Train loss: 147.3182 |  Train accuracy: 0.9760 | Test accuracy: 0.9727 | Duration 0.34 sec\n",
            "Epoch 45 | Train loss: 134.0476 |  Train accuracy: 0.9800 | Test accuracy: 0.9704 | Duration 0.34 sec\n",
            "Saved model checkpoint to model_epoch_45.pt\n",
            "Epoch 46 | Train loss: 147.7114 |  Train accuracy: 0.9805 | Test accuracy: 0.9710 | Duration 0.36 sec\n",
            "Epoch 47 | Train loss: 115.8035 |  Train accuracy: 0.9820 | Test accuracy: 0.9725 | Duration 0.35 sec\n",
            "Epoch 48 | Train loss: 122.3357 |  Train accuracy: 0.9825 | Test accuracy: 0.9702 | Duration 0.35 sec\n",
            "Epoch 49 | Train loss: 155.2575 |  Train accuracy: 0.9775 | Test accuracy: 0.9744 | Duration 0.36 sec\n"
          ]
        }
      ]
    },
    {
      "cell_type": "markdown",
      "source": [
        "## Loading the model from a checkpoint\n",
        "\n"
      ],
      "metadata": {
        "id": "8TY20Rp9w1Uh"
      }
    },
    {
      "cell_type": "code",
      "source": [
        "# load model from checkpoint\n",
        "model_loaded = MNIST_CNN()\n",
        "checkpoint = torch.load('model_epoch_5.pt')\n",
        "model_loaded.load_state_dict(checkpoint['model_state_dict'])\n",
        "\n",
        "model_loaded.eval()"
      ],
      "metadata": {
        "colab": {
          "base_uri": "https://localhost:8080/"
        },
        "id": "UEp8rET6Non3",
        "outputId": "3ac9ab20-3d7c-422b-e103-e57ec7203d9b"
      },
      "execution_count": null,
      "outputs": [
        {
          "output_type": "execute_result",
          "data": {
            "text/plain": [
              "MNIST_CNN(\n",
              "  (conv1): Conv2d(1, 16, kernel_size=(5, 5), stride=(1, 1))\n",
              "  (conv2): Conv2d(16, 32, kernel_size=(3, 3), stride=(1, 1))\n",
              "  (pool): MaxPool2d(kernel_size=2, stride=2, padding=0, dilation=1, ceil_mode=False)\n",
              "  (leaky_relu): LeakyReLU(negative_slope=0.01)\n",
              "  (dropout): Dropout(p=0.5, inplace=False)\n",
              "  (fc1): Linear(in_features=800, out_features=120, bias=True)\n",
              "  (fc2): Linear(in_features=120, out_features=84, bias=True)\n",
              "  (fc3): Linear(in_features=84, out_features=10, bias=True)\n",
              ")"
            ]
          },
          "metadata": {},
          "execution_count": 18
        }
      ]
    },
    {
      "cell_type": "markdown",
      "source": [
        "Check out some predictions of the loaded checkpoint"
      ],
      "metadata": {
        "id": "_9y26Ea8RNfZ"
      }
    },
    {
      "cell_type": "code",
      "source": [
        "with torch.no_grad():\n",
        "  for j, (x_batch, y_batch) in enumerate(test_loader):\n",
        "    num_plots = 5\n",
        "    logits = model_loaded(x_batch)\n",
        "    class_probs = torch.nn.Softmax()(logits).numpy()\n",
        "    for i in range(5):\n",
        "      fig, axes = plt.subplots(ncols=2, figsize=(6, 3))\n",
        "      axes[0].imshow(x_batch[i].numpy().squeeze())\n",
        "      axes[1].bar(range(10), class_probs[i])\n",
        "      axes[1].set_xticks(range(10))\n",
        "    fig.show()\n",
        "    break"
      ],
      "metadata": {
        "colab": {
          "base_uri": "https://localhost:8080/",
          "height": 1000
        },
        "id": "ZdhcsDjWQL3x",
        "outputId": "8f21f263-6dcd-4bf4-dbe8-c0ecf6cbef70"
      },
      "execution_count": null,
      "outputs": [
        {
          "output_type": "stream",
          "name": "stderr",
          "text": [
            "/usr/local/lib/python3.7/dist-packages/ipykernel_launcher.py:5: UserWarning: Implicit dimension choice for softmax has been deprecated. Change the call to include dim=X as an argument.\n",
            "  \"\"\"\n"
          ]
        },
        {
          "output_type": "display_data",
          "data": {
            "text/plain": [
              "<Figure size 432x216 with 2 Axes>"
            ],
            "image/png": "[encoded data removed]"
          },
          "metadata": {
            "needs_background": "light"
          }
        },
        {
          "output_type": "display_data",
          "data": {
            "text/plain": [
              "<Figure size 432x216 with 2 Axes>"
            ],
            "image/png": "[encoded data removed]"
          },
          "metadata": {
            "needs_background": "light"
          }
        },
        {
          "output_type": "display_data",
          "data": {
            "text/plain": [
              "<Figure size 432x216 with 2 Axes>"
            ],
            "image/png": "[encoded data removed]"
          },
          "metadata": {
            "needs_background": "light"
          }
        },
        {
          "output_type": "display_data",
          "data": {
            "text/plain": [
              "<Figure size 432x216 with 2 Axes>"
            ],
            "image/png": "[encoded data removed]"
          },
          "metadata": {
            "needs_background": "light"
          }
        },
        {
          "output_type": "display_data",
          "data": {
            "text/plain": [
              "<Figure size 432x216 with 2 Axes>"
            ],
            "image/png": "[encoded data removed]"
          },
          "metadata": {
            "needs_background": "light"
          }
        }
      ]
    },
    {
      "cell_type": "code",
      "source": [],
      "metadata": {
        "id": "wlmKigTiLB9Y"
      },
      "execution_count": null,
      "outputs": []
    }
  ]
}