{
  "nbformat": 4,
  "nbformat_minor": 0,
  "metadata": {
    "colab": {
      "provenance": [],
      "toc_visible": true,
      "include_colab_link": true
    },
    "kernelspec": {
      "name": "python3",
      "display_name": "Python 3"
    },
    "language_info": {
      "name": "python"
    },
    "accelerator": "GPU"
  },
  "cells": [
    {
      "cell_type": "markdown",
      "metadata": {
        "id": "view-in-github",
        "colab_type": "text"
      },
      "source": [
        "<a href=\"https://colab.research.google.com/github/ullattil/Self-Study-Notebooks/blob/master/iml_pytorch_tutorial1.ipynb\" target=\"_parent\"><img src=\"https://colab.research.google.com/assets/colab-badge.svg\" alt=\"Open In Colab\"/></a>"
      ]
    },
    {
      "cell_type": "markdown",
      "source": [
        "# IML PyTorch Tutorial - Part 1: Tensors and Arithmetic Operations\n"
      ],
      "metadata": {
        "id": "EsO4SWAk86S8"
      }
    },
    {
      "cell_type": "markdown",
      "source": [
        "PyTorch **tensors**:\n",
        "*   Data structure that is very similar to arrays / matrices in NumPy (i.e. `np.ndarrays`)\n",
        "*   Can be stored on GPUs and other accelerated computing hardware\n",
        "*   Also have (hidden) attributes and methods that make automatic differentiation possible\n",
        "\n",
        "\n",
        "\n",
        "\n"
      ],
      "metadata": {
        "id": "9xKlF5PC72Tg"
      }
    },
    {
      "cell_type": "code",
      "source": [
        "# basic imports\n",
        "import torch\n",
        "import numpy as np"
      ],
      "metadata": {
        "id": "90__Z0afFcTU"
      },
      "execution_count": null,
      "outputs": []
    },
    {
      "cell_type": "markdown",
      "source": [
        "### Defining a tensor\n"
      ],
      "metadata": {
        "id": "GJzYos2x-Jnq"
      }
    },
    {
      "cell_type": "markdown",
      "source": [
        "There are different ways to define a tensor in PyTorch"
      ],
      "metadata": {
        "id": "tILMC1Yi2-ic"
      }
    },
    {
      "cell_type": "markdown",
      "source": [
        "With custum data definition:"
      ],
      "metadata": {
        "id": "2S8rg0KYFMfR"
      }
    },
    {
      "cell_type": "code",
      "execution_count": null,
      "metadata": {
        "colab": {
          "base_uri": "https://localhost:8080/"
        },
        "id": "4ObNVsB37Wiw",
        "outputId": "d135f32d-bdc6-4c60-e9ab-c12099428c39"
      },
      "outputs": [
        {
          "output_type": "stream",
          "name": "stdout",
          "text": [
            "tensor([[1.0000, 2.5000],\n",
            "        [3.5000, 4.0000]]) \n",
            "\n",
            "Shape: torch.Size([2, 2])\n",
            "Data type: torch.float32\n",
            "Device: cpu\n"
          ]
        }
      ],
      "source": [
        "# define a matix\n",
        "data = [[1, 2.5], [3.5, 4]]\n",
        "x_tensor = torch.tensor(data)\n",
        "\n",
        "# check some properties of the tensor\n",
        "print(x_tensor, '\\n')\n",
        "print('Shape:', x_tensor.shape)\n",
        "print('Data type:', x_tensor.dtype)\n",
        "print('Device:', x_tensor.device)"
      ]
    },
    {
      "cell_type": "markdown",
      "source": [
        "With constant or random values:"
      ],
      "metadata": {
        "id": "FyqKp2LFFI8h"
      }
    },
    {
      "cell_type": "code",
      "source": [
        "shape = (2, 3, 5)\n",
        "ones_tensor = torch.ones(shape)\n",
        "zeros_tensor = torch.zeros(shape)\n",
        "rand_tensor = torch.rand(shape)  # samples from a U([0, 1]) uniform dist\n",
        "randn_tensor = torch.randn(shape)  # samples from a N(0, 1) standard normal dist\n",
        "\n",
        "\n",
        "print(f\"Ones tensor: \\n{ones_tensor} \\n\")\n",
        "print(f\"Zeros tensor: \\n{zeros_tensor} \\n\")\n",
        "print(f\"Random (uniform) tensor: \\n{rand_tensor} \\n\")\n",
        "print(f\"Random (Gaussian) tensor: \\n{randn_tensor}\")"
      ],
      "metadata": {
        "colab": {
          "base_uri": "https://localhost:8080/"
        },
        "id": "dEpUEMGaFY1Q",
        "outputId": "0050821b-a691-4706-aaf6-7a228c062ce1"
      },
      "execution_count": null,
      "outputs": [
        {
          "output_type": "stream",
          "name": "stdout",
          "text": [
            "Ones tensor: \n",
            "tensor([[[1., 1., 1., 1., 1.],\n",
            "         [1., 1., 1., 1., 1.],\n",
            "         [1., 1., 1., 1., 1.]],\n",
            "\n",
            "        [[1., 1., 1., 1., 1.],\n",
            "         [1., 1., 1., 1., 1.],\n",
            "         [1., 1., 1., 1., 1.]]]) \n",
            "\n",
            "Zeros tensor: \n",
            "tensor([[[0., 0., 0., 0., 0.],\n",
            "         [0., 0., 0., 0., 0.],\n",
            "         [0., 0., 0., 0., 0.]],\n",
            "\n",
            "        [[0., 0., 0., 0., 0.],\n",
            "         [0., 0., 0., 0., 0.],\n",
            "         [0., 0., 0., 0., 0.]]]) \n",
            "\n",
            "Random (uniform) tensor: \n",
            "tensor([[[0.3461, 0.4716, 0.9937, 0.6279, 0.3561],\n",
            "         [0.7074, 0.3792, 0.7300, 0.7096, 0.0383],\n",
            "         [0.3449, 0.5702, 0.8236, 0.3064, 0.2357]],\n",
            "\n",
            "        [[0.9269, 0.3137, 0.4431, 0.0266, 0.7653],\n",
            "         [0.1353, 0.5216, 0.8716, 0.5607, 0.5371],\n",
            "         [0.1115, 0.6260, 0.8500, 0.1038, 0.8973]]]) \n",
            "\n",
            "Random (Gaussian) tensor: \n",
            "tensor([[[-0.6795, -0.4159,  0.9827, -1.0309, -1.3561],\n",
            "         [-0.3122, -0.5358, -0.3764,  0.8683,  1.3436],\n",
            "         [-1.6786, -0.8016,  1.4672,  0.3639, -1.1457]],\n",
            "\n",
            "        [[-1.3856, -0.1928, -0.5037, -1.3272, -0.9122],\n",
            "         [-1.0206,  0.7244,  0.3115,  0.7875, -0.1229],\n",
            "         [ 0.8302, -0.7526, -0.6215, -0.1214, -0.2422]]])\n"
          ]
        }
      ]
    },
    {
      "cell_type": "markdown",
      "source": [
        "### Moving back and forth between numpy and torch"
      ],
      "metadata": {
        "id": "xqW6zYEG-QGE"
      }
    },
    {
      "cell_type": "code",
      "source": [
        "# Define numpy ndarray\n",
        "x_numpy = np.array([[1.0, 0.0], [0.0, 1.0]])\n",
        "print(x_numpy, '\\n')\n",
        "\n",
        "# Convert numpy ndarray to tensor\n",
        "x_tensor = torch.from_numpy(x_numpy)\n",
        "print(x_tensor)\n",
        "print('Data type:', x_tensor.dtype, '\\n')\n",
        "\n",
        "# Convert back to numpy array\n",
        "x_numpy2 = x_tensor.numpy()\n",
        "print(x_numpy)"
      ],
      "metadata": {
        "colab": {
          "base_uri": "https://localhost:8080/"
        },
        "id": "uJ0wRjBJ9jLy",
        "outputId": "6f4c8d1d-30bb-469e-a751-f74999f0ad2b"
      },
      "execution_count": null,
      "outputs": [
        {
          "output_type": "stream",
          "name": "stdout",
          "text": [
            "[[1. 0.]\n",
            " [0. 1.]] \n",
            "\n",
            "tensor([[1., 0.],\n",
            "        [0., 1.]], dtype=torch.float64)\n",
            "Data type: torch.float64 \n",
            "\n",
            "[[1. 0.]\n",
            " [0. 1.]]\n"
          ]
        }
      ]
    },
    {
      "cell_type": "markdown",
      "source": [
        "### Changing the data type of a tensor"
      ],
      "metadata": {
        "id": "Nr_vsYh-AIkP"
      }
    },
    {
      "cell_type": "code",
      "source": [
        "# Change data type to float32 \n",
        "x_tensor = x_tensor.float()\n",
        "print(f'{x_tensor}\\n{x_tensor.dtype}\\n')\n",
        "\n",
        "# Change data type to int \n",
        "x_tensor_int = x_tensor.int()\n",
        "print(f'{x_tensor_int}\\n{x_tensor_int.dtype}\\n')\n",
        "\n",
        "\n",
        "# Change data type to int \n",
        "x_tensor_bool = x_tensor.bool()\n",
        "print(f'{x_tensor_bool}\\n{x_tensor_bool.dtype}\\n')"
      ],
      "metadata": {
        "colab": {
          "base_uri": "https://localhost:8080/"
        },
        "id": "jopBxwgE-l9o",
        "outputId": "2f1f1760-1dd3-44e3-c43d-aaf764b96727"
      },
      "execution_count": null,
      "outputs": [
        {
          "output_type": "stream",
          "name": "stdout",
          "text": [
            "tensor([[1., 0.],\n",
            "        [0., 1.]])\n",
            "torch.float32\n",
            "\n",
            "tensor([[1, 0],\n",
            "        [0, 1]], dtype=torch.int32)\n",
            "torch.int32\n",
            "\n",
            "tensor([[ True, False],\n",
            "        [False,  True]])\n",
            "torch.bool\n",
            "\n"
          ]
        }
      ]
    },
    {
      "cell_type": "markdown",
      "source": [
        "### Changing the shape of a tensor"
      ],
      "metadata": {
        "id": "_Q6vtwlLltN4"
      }
    },
    {
      "cell_type": "code",
      "source": [
        "x = torch.randn(size=(32, 2))\n",
        "print(x.shape)\n",
        "# reshape to (16, 4)\n",
        "x = x.reshape((16, 4))\n",
        "print(x.shape)\n",
        "# add third dimension of size 1 (same as x.reshape((16, 4, 1)))\n",
        "x = x.unsqueeze(-1)\n",
        "print(x.shape)\n",
        "# remove all dimensions of size 1\n",
        "x = x.squeeze()\n",
        "print(x.shape)\n",
        "# flatten the tensor to a 1-dimensional vector (same as x.reshape((-1,)))\n",
        "x = x.flatten()  \n",
        "print(x.shape)"
      ],
      "metadata": {
        "colab": {
          "base_uri": "https://localhost:8080/"
        },
        "id": "6y7GIbZ3l2G2",
        "outputId": "a72ea001-a48c-4844-b5fb-6bf5c046fb04"
      },
      "execution_count": null,
      "outputs": [
        {
          "output_type": "stream",
          "name": "stdout",
          "text": [
            "torch.Size([32, 2])\n",
            "torch.Size([16, 4])\n",
            "torch.Size([16, 4, 1])\n",
            "torch.Size([16, 4])\n",
            "torch.Size([64])\n"
          ]
        }
      ]
    },
    {
      "cell_type": "markdown",
      "source": [
        "### Slicing tensors"
      ],
      "metadata": {
        "id": "UVdFGurSnT02"
      }
    },
    {
      "cell_type": "code",
      "source": [
        "mat = torch.tensor([[0.0, 0.0, 0.0], [1.0, 1.0, 1.0], [2.0, 2.0, 2.0]])\n",
        "print(mat)\n",
        "# select first row\n",
        "print(mat[0])\n",
        "# select last column\n",
        "print(mat[:, -1])\n",
        "# select first two rows\n",
        "print(mat[:2])\n",
        "# select first and last column\n",
        "print(mat[:, [0, -1]])"
      ],
      "metadata": {
        "colab": {
          "base_uri": "https://localhost:8080/"
        },
        "id": "D9ysKx7Tnp2E",
        "outputId": "911d4bc0-c89e-4870-9e6d-8b146a01136b"
      },
      "execution_count": null,
      "outputs": [
        {
          "output_type": "stream",
          "name": "stdout",
          "text": [
            "tensor([[0., 0., 0.],\n",
            "        [1., 1., 1.],\n",
            "        [2., 2., 2.]])\n",
            "tensor([0., 0., 0.])\n",
            "tensor([0., 1., 2.])\n",
            "tensor([[0., 0., 0.],\n",
            "        [1., 1., 1.]])\n",
            "tensor([[0., 0.],\n",
            "        [1., 1.],\n",
            "        [2., 2.]])\n"
          ]
        }
      ]
    },
    {
      "cell_type": "markdown",
      "source": [
        "### Moving tensors between the CPU and GPU"
      ],
      "metadata": {
        "id": "TFMG8RWsBks0"
      }
    },
    {
      "cell_type": "code",
      "source": [
        "x_tensor = torch.ones(3) # create 3x3 identity matrix\n",
        "print(x_tensor.device)\n",
        "x_tensor_gpu = x_tensor.cuda() # move tensor to GPU\n",
        "print(x_tensor_gpu.device)"
      ],
      "metadata": {
        "colab": {
          "base_uri": "https://localhost:8080/"
        },
        "id": "xVlk6ouTBjDW",
        "outputId": "c5121539-c515-4797-ed80-4160ff5b7543"
      },
      "execution_count": null,
      "outputs": [
        {
          "output_type": "stream",
          "name": "stdout",
          "text": [
            "cpu\n",
            "cuda:0\n"
          ]
        }
      ]
    },
    {
      "cell_type": "markdown",
      "source": [
        "For computations, all involved tensors need to be located on the same device!"
      ],
      "metadata": {
        "id": "ZcrUc52SCrwX"
      }
    },
    {
      "cell_type": "code",
      "source": [
        "x_tensor * (x_tensor_gpu + 1.0) # element wise product of vectors"
      ],
      "metadata": {
        "colab": {
          "base_uri": "https://localhost:8080/",
          "height": 167
        },
        "id": "62q0-kkQBt-Y",
        "outputId": "df7a32df-c0ba-4c6d-9c8d-3d25012e770c"
      },
      "execution_count": null,
      "outputs": [
        {
          "output_type": "error",
          "ename": "RuntimeError",
          "evalue": "ignored",
          "traceback": [
            "\u001b[0;31m---------------------------------------------------------------------------\u001b[0m",
            "\u001b[0;31mRuntimeError\u001b[0m                              Traceback (most recent call last)",
            "\u001b[0;32m<ipython-input-11-fff446fa83d2>\u001b[0m in \u001b[0;36m<module>\u001b[0;34m()\u001b[0m\n\u001b[0;32m----> 1\u001b[0;31m \u001b[0mx_tensor\u001b[0m \u001b[0;34m*\u001b[0m \u001b[0;34m(\u001b[0m\u001b[0mx_tensor_gpu\u001b[0m \u001b[0;34m+\u001b[0m \u001b[0;36m1.0\u001b[0m\u001b[0;34m)\u001b[0m \u001b[0;31m# element wise product of vectors\u001b[0m\u001b[0;34m\u001b[0m\u001b[0;34m\u001b[0m\u001b[0m\n\u001b[0m",
            "\u001b[0;31mRuntimeError\u001b[0m: Expected all tensors to be on the same device, but found at least two devices, cuda:0 and cpu!"
          ]
        }
      ]
    },
    {
      "cell_type": "code",
      "source": [
        "x_result = x_tensor.cuda() * (x_tensor_gpu + 1.0)  # element wise product of vectors\n",
        "print(x_result)"
      ],
      "metadata": {
        "colab": {
          "base_uri": "https://localhost:8080/"
        },
        "id": "Zk2_guMQCy4d",
        "outputId": "8069dbe1-c93d-4de2-ea6b-167cd186b554"
      },
      "execution_count": null,
      "outputs": [
        {
          "output_type": "stream",
          "name": "stdout",
          "text": [
            "tensor([2., 2., 2.], device='cuda:0')\n"
          ]
        }
      ]
    },
    {
      "cell_type": "markdown",
      "source": [
        "We can only convert **cpu** tensors into numpy ndarrays"
      ],
      "metadata": {
        "id": "087iwi-5Di2c"
      }
    },
    {
      "cell_type": "code",
      "source": [
        "x_result.numpy()"
      ],
      "metadata": {
        "colab": {
          "base_uri": "https://localhost:8080/",
          "height": 167
        },
        "id": "IhOVcfEgDBK3",
        "outputId": "f078c8dd-5238-489e-a0df-f62f4d2470eb"
      },
      "execution_count": null,
      "outputs": [
        {
          "output_type": "error",
          "ename": "TypeError",
          "evalue": "ignored",
          "traceback": [
            "\u001b[0;31m---------------------------------------------------------------------------\u001b[0m",
            "\u001b[0;31mTypeError\u001b[0m                                 Traceback (most recent call last)",
            "\u001b[0;32m<ipython-input-13-e85fbdd00c77>\u001b[0m in \u001b[0;36m<module>\u001b[0;34m()\u001b[0m\n\u001b[0;32m----> 1\u001b[0;31m \u001b[0mx_result\u001b[0m\u001b[0;34m.\u001b[0m\u001b[0mnumpy\u001b[0m\u001b[0;34m(\u001b[0m\u001b[0;34m)\u001b[0m\u001b[0;34m\u001b[0m\u001b[0;34m\u001b[0m\u001b[0m\n\u001b[0m",
            "\u001b[0;31mTypeError\u001b[0m: can't convert cuda:0 device type tensor to numpy. Use Tensor.cpu() to copy the tensor to host memory first."
          ]
        }
      ]
    },
    {
      "cell_type": "code",
      "source": [
        "x_result.cpu().numpy() # first move tensor back to cpu, then convert to numpy"
      ],
      "metadata": {
        "colab": {
          "base_uri": "https://localhost:8080/"
        },
        "id": "l5roa4xUECTm",
        "outputId": "3f8d1e1a-66d8-4ea9-aa94-afc543e30565"
      },
      "execution_count": null,
      "outputs": [
        {
          "output_type": "execute_result",
          "data": {
            "text/plain": [
              "array([2., 2., 2.], dtype=float32)"
            ]
          },
          "metadata": {},
          "execution_count": 14
        }
      ]
    },
    {
      "cell_type": "markdown",
      "source": [
        "### Basic arithmetic operations"
      ],
      "metadata": {
        "id": "YVGVCic6E_q2"
      }
    },
    {
      "cell_type": "markdown",
      "source": [
        "Scalar / element-wise operations"
      ],
      "metadata": {
        "id": "h6ztJAcjGvjE"
      }
    },
    {
      "cell_type": "code",
      "source": [
        "a, b, c = torch.tensor(3.0), torch.tensor(2.0), torch.tensor(16.)\n",
        "print(a+b)  # addition\n",
        "print(a-b)  # subtraction\n",
        "print(a*b)  # multiplication\n",
        "print(a/b)  # division\n",
        "print(a**b) # power\n",
        "print(torch.sqrt(c)) # square root\n",
        "print(torch.tensor([9.0, 16.])**0.5)  # square root as power\n",
        "print(torch.exp(torch.zeros(2))) # exp"
      ],
      "metadata": {
        "colab": {
          "base_uri": "https://localhost:8080/"
        },
        "id": "mqcoKwLHGhNI",
        "outputId": "884c1949-3e16-4103-c533-39b7b7308996"
      },
      "execution_count": null,
      "outputs": [
        {
          "output_type": "stream",
          "name": "stdout",
          "text": [
            "tensor(5.)\n",
            "tensor(1.)\n",
            "tensor(6.)\n",
            "tensor(1.5000)\n",
            "tensor(9.)\n",
            "tensor(4.)\n",
            "tensor([3., 4.])\n",
            "tensor([1., 1.])\n"
          ]
        }
      ]
    },
    {
      "cell_type": "code",
      "source": [
        "mat1 = torch.tensor([[1.0, 2.0],[-2.0, 1.0]])\n",
        "mat_eye = torch.eye(2) # identiy matrix\n",
        "print(mat1)\n",
        "print(mat_eye)"
      ],
      "metadata": {
        "colab": {
          "base_uri": "https://localhost:8080/"
        },
        "id": "kq4ntbE5G9sH",
        "outputId": "0a784a9c-93ea-4a8e-f704-da3cec8154f5"
      },
      "execution_count": null,
      "outputs": [
        {
          "output_type": "stream",
          "name": "stdout",
          "text": [
            "tensor([[ 1.,  2.],\n",
            "        [-2.,  1.]])\n",
            "tensor([[1., 0.],\n",
            "        [0., 1.]])\n"
          ]
        }
      ]
    },
    {
      "cell_type": "code",
      "source": [
        "2 * mat1 - 1.0\n"
      ],
      "metadata": {
        "colab": {
          "base_uri": "https://localhost:8080/"
        },
        "id": "atz40tpaH8xx",
        "outputId": "aeb43739-6d51-4d3e-893c-5a07b53d3709"
      },
      "execution_count": null,
      "outputs": [
        {
          "output_type": "execute_result",
          "data": {
            "text/plain": [
              "tensor([[ 1.,  3.],\n",
              "        [-5.,  1.]])"
            ]
          },
          "metadata": {},
          "execution_count": 16
        }
      ]
    },
    {
      "cell_type": "code",
      "source": [
        "mat1 - mat_eye"
      ],
      "metadata": {
        "colab": {
          "base_uri": "https://localhost:8080/"
        },
        "id": "GJixbFOoHVfc",
        "outputId": "af2cf823-dc82-41de-ac25-a1cb8dba4a70"
      },
      "execution_count": null,
      "outputs": [
        {
          "output_type": "execute_result",
          "data": {
            "text/plain": [
              "tensor([[ 0.,  2.],\n",
              "        [-2.,  0.]])"
            ]
          },
          "metadata": {},
          "execution_count": 17
        }
      ]
    },
    {
      "cell_type": "code",
      "source": [
        "mat1 * mat_eye  # element-wise product"
      ],
      "metadata": {
        "colab": {
          "base_uri": "https://localhost:8080/"
        },
        "id": "Ggumn22SIG_g",
        "outputId": "1580100c-87e1-422d-b2a3-3818a04d8823"
      },
      "execution_count": null,
      "outputs": [
        {
          "output_type": "execute_result",
          "data": {
            "text/plain": [
              "tensor([[1., 0.],\n",
              "        [-0., 1.]])"
            ]
          },
          "metadata": {},
          "execution_count": 18
        }
      ]
    },
    {
      "cell_type": "markdown",
      "source": [
        "Matrix multiplication and other matrix operations"
      ],
      "metadata": {
        "id": "61Qzu1X2H5U3"
      }
    },
    {
      "cell_type": "code",
      "source": [
        "torch.matmul(mat1, mat_eye)"
      ],
      "metadata": {
        "colab": {
          "base_uri": "https://localhost:8080/"
        },
        "id": "Je71f3q_ISB8",
        "outputId": "63730db7-99ae-45c9-fd50-c928da0651b2"
      },
      "execution_count": null,
      "outputs": [
        {
          "output_type": "execute_result",
          "data": {
            "text/plain": [
              "tensor([[ 1.,  2.],\n",
              "        [-2.,  1.]])"
            ]
          },
          "metadata": {},
          "execution_count": 19
        }
      ]
    },
    {
      "cell_type": "code",
      "source": [
        "mat1 @ mat_eye  # @ is the short symbol for matmul "
      ],
      "metadata": {
        "colab": {
          "base_uri": "https://localhost:8080/"
        },
        "id": "6A0AUdTPJUUi",
        "outputId": "635e9bf0-c0c9-44f3-f604-a31c7d1334e8"
      },
      "execution_count": null,
      "outputs": [
        {
          "output_type": "execute_result",
          "data": {
            "text/plain": [
              "tensor([[ 1.,  2.],\n",
              "        [-2.,  1.]])"
            ]
          },
          "metadata": {},
          "execution_count": 20
        }
      ]
    },
    {
      "cell_type": "code",
      "source": [
        "mat1 @ torch.ones(2)  # matrix-vector product, (2, 2) @ (2,) -> (2,). "
      ],
      "metadata": {
        "colab": {
          "base_uri": "https://localhost:8080/"
        },
        "id": "zNk4zD4lJXNd",
        "outputId": "cbeec93b-8b5e-44ba-9a57-a4a3f24a9779"
      },
      "execution_count": null,
      "outputs": [
        {
          "output_type": "execute_result",
          "data": {
            "text/plain": [
              "tensor([ 3., -1.])"
            ]
          },
          "metadata": {},
          "execution_count": 21
        }
      ]
    },
    {
      "cell_type": "code",
      "source": [
        "mat1.T  # transpose"
      ],
      "metadata": {
        "colab": {
          "base_uri": "https://localhost:8080/"
        },
        "id": "vZrukHRVLn3b",
        "outputId": "5d875b12-aaed-42b6-e69b-2501dfe8ff3c"
      },
      "execution_count": null,
      "outputs": [
        {
          "output_type": "execute_result",
          "data": {
            "text/plain": [
              "tensor([[ 1., -2.],\n",
              "        [ 2.,  1.]])"
            ]
          },
          "metadata": {},
          "execution_count": 22
        }
      ]
    },
    {
      "cell_type": "code",
      "source": [
        "torch.linalg.cholesky(torch.eye(3) + torch.ones((3, 3))) # cholesky decomposition"
      ],
      "metadata": {
        "colab": {
          "base_uri": "https://localhost:8080/"
        },
        "id": "GbqcW8eaLoy1",
        "outputId": "ad8689ab-72ac-406c-96d4-3c673e274c89"
      },
      "execution_count": null,
      "outputs": [
        {
          "output_type": "execute_result",
          "data": {
            "text/plain": [
              "tensor([[1.4142, 0.0000, 0.0000],\n",
              "        [0.7071, 1.2247, 0.0000],\n",
              "        [0.7071, 0.4082, 1.1547]])"
            ]
          },
          "metadata": {},
          "execution_count": 23
        }
      ]
    },
    {
      "cell_type": "markdown",
      "source": [
        "### Reduce operations\n"
      ],
      "metadata": {
        "id": "P92_kzjsivew"
      }
    },
    {
      "cell_type": "code",
      "source": [
        "# reduce operations over entire tensor; (n, m) tensor -> scalar\n",
        "x_mat = torch.tensor([[1.0, 2.0, 3.0], [4.0, 5.0, 6.0]])\n",
        "print('Original shape:', x_mat.shape)\n",
        "print('Sum:', torch.sum(x_mat))\n",
        "print('Mean:', torch.mean(x_mat))\n",
        "print('Std:', torch.std(x_mat))\n",
        "print('Product:', torch.prod(x_mat))"
      ],
      "metadata": {
        "colab": {
          "base_uri": "https://localhost:8080/"
        },
        "id": "pfrrp6HAiyhd",
        "outputId": "4f777437-43a6-48c5-ba7a-60b34feb7435"
      },
      "execution_count": null,
      "outputs": [
        {
          "output_type": "stream",
          "name": "stdout",
          "text": [
            "Original shape: torch.Size([2, 3])\n",
            "Sum: tensor(21.)\n",
            "Mean: tensor(3.5000)\n",
            "Std: tensor(1.8708)\n",
            "Product: tensor(720.)\n"
          ]
        }
      ]
    },
    {
      "cell_type": "code",
      "source": [
        "# reduce operations along a dimesion (last dimension being -1); (n, m) tensor -> (n,) tensor\n",
        "x_mat = torch.tensor([[1.0, 2.0, 3.0], [4.0, 5.0, 6.0]])\n",
        "print('Sum:', torch.sum(x_mat, dim=-1))  # same as torch.sum(x_mat, dim=1)\n",
        "print('Mean:', torch.mean(x_mat, dim=-1))\n",
        "print('Std:', torch.std(x_mat, dim=-1))\n",
        "print('Product:', torch.prod(x_mat, dim=-1))"
      ],
      "metadata": {
        "colab": {
          "base_uri": "https://localhost:8080/"
        },
        "id": "AqqZouCYjJzO",
        "outputId": "9260f08d-06f0-4bfa-c440-d7325c0d09ee"
      },
      "execution_count": null,
      "outputs": [
        {
          "output_type": "stream",
          "name": "stdout",
          "text": [
            "Sum: tensor([ 6., 15.])\n",
            "Mean: tensor([2., 5.])\n",
            "Std: tensor([1., 1.])\n",
            "Product: tensor([  6., 120.])\n"
          ]
        }
      ]
    },
    {
      "cell_type": "code",
      "source": [
        "y_mat = torch.rand((2, 3, 4))\n",
        "print('y_mat:', y_mat)\n",
        "print('Sum:', torch.sum(y_mat, dim=(0, -1)))"
      ],
      "metadata": {
        "colab": {
          "base_uri": "https://localhost:8080/"
        },
        "id": "JaC1r2qq4jcd",
        "outputId": "a3cc1999-5f20-4c22-c6a5-2fdfa65990cb"
      },
      "execution_count": null,
      "outputs": [
        {
          "output_type": "stream",
          "name": "stdout",
          "text": [
            "y_mat: tensor([[[2.0484e-01, 4.9108e-01, 1.0014e-05, 3.2200e-01],\n",
            "         [2.4065e-01, 3.3344e-01, 4.5353e-01, 4.0415e-01],\n",
            "         [2.0547e-01, 3.8172e-02, 2.2652e-01, 4.0503e-01]],\n",
            "\n",
            "        [[5.9461e-01, 6.5301e-01, 8.4589e-01, 9.4166e-01],\n",
            "         [9.7086e-02, 1.2127e-01, 7.7180e-01, 3.2549e-01],\n",
            "         [7.9233e-01, 3.4888e-01, 1.9080e-01, 5.9989e-01]]])\n",
            "Sum: tensor([4.0531, 2.7474, 2.8071])\n"
          ]
        }
      ]
    },
    {
      "cell_type": "code",
      "source": [],
      "metadata": {
        "id": "jc1DoPAt3JNm"
      },
      "execution_count": null,
      "outputs": []
    }
  ]
}